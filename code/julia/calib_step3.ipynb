{
 "cells": [
  {
   "cell_type": "markdown",
   "metadata": {},
   "source": [
    "# Calibrate: step 3"
   ]
  },
  {
   "cell_type": "code",
   "execution_count": 1,
   "metadata": {
    "scrolled": true
   },
   "outputs": [
    {
     "name": "stdout",
     "output_type": "stream",
     "text": [
      "-----***** IVER not specified => Default version 3 *****-----\n",
      "-----*****  eta=0.25 and beta=0.75 *****-----\n"
     ]
    },
    {
     "data": {
      "text/plain": [
       "0.016666666666666666"
      ]
     },
     "execution_count": 1,
     "metadata": {},
     "output_type": "execute_result"
    }
   ],
   "source": [
    "using NBInclude\n",
    "## IVER = 5\n",
    "@nbinclude(\"startup.ipynb\") ## choose IVER before, or IVER = 3 by default\n",
    "\n",
    "if \"COMP\" in keys(ENV)\n",
    "    COMP = parse(Int,ENV[\"COMP\"])\n",
    "else\n",
    "    COMP = 1/60 \n",
    "end"
   ]
  },
  {
   "cell_type": "markdown",
   "metadata": {},
   "source": [
    "We minimise distance to find $\\epsilon$, $\\xi$ and $k_j$ (1h)."
   ]
  },
  {
   "cell_type": "code",
   "execution_count": 2,
   "metadata": {},
   "outputs": [
    {
     "name": "stdout",
     "output_type": "stream",
     "text": [
      "---*** Begin STEP3 on version 3, for maxtime=0.016666666666666666h***---\n",
      "Distance before: 1.9152375464682232\n",
      "1.9152375464682225 86.77841714043444 5.072564294667242 5.283014572474732 4.380273750893629 2.974865521240387 2.908160397066545 The minimum is reached at 1.9152375464682225 with MAXTIME_REACHED\n",
      " 70.395859 seconds (75.22 M allocations: 16.340 GiB, 1.61% gc time)\n",
      "Distance after: 1.9152375464682225\n",
      "---*** End STEP3 on version 3 with ES=0.53, XI=1.11***---\n"
     ]
    }
   ],
   "source": [
    "println(\"---*** Begin STEP3 on version $IVER, for maxtime=$(COMP)h***---\")\n",
    "\n",
    "A0, M0 = open_struc(joinpath(dir_calib,\"step2_v$IVER.csv\"),N)\n",
    "\n",
    "println(\"Distance before: \",distance_mom(PAR, A0,RTax,M0,N))\n",
    "\n",
    "@time (A1, M1) = calibrate_equilibrium(PAR,RTax,M0,N, \n",
    "        toestim=[false,false,true,true,true,false],\n",
    "        A0=A0,verbose = true,  Xtol=1e-2, maxti= 60*60*COMP, algo=:LN_SBPLX) \n",
    "   \n",
    "M1.k[:] = compute_k(A1,RTax,M1,N)\n",
    "\n",
    "println(\"Distance after: \",distance_mom(PAR, A1,RTax,M1,N))\n",
    "\n",
    "## save\n",
    "save_struc(A1, M1, joinpath(dir_calib,\"step3_v$IVER.csv\"), \"v$IVER\", N)\n",
    "\n",
    "esr = round(M1.es, digits = 2)\n",
    "xir = round(M1.xi, digits=2)\n",
    "println(\"---*** End STEP3 on version $IVER with ES=$esr, XI=$xir***---\") "
   ]
  },
  {
   "cell_type": "code",
   "execution_count": null,
   "metadata": {},
   "outputs": [],
   "source": []
  }
 ],
 "metadata": {
  "@webio": {
   "lastCommId": null,
   "lastKernelId": null
  },
  "kernelspec": {
   "display_name": "Julia 1.2.0",
   "language": "julia",
   "name": "julia-1.2"
  },
  "language_info": {
   "file_extension": ".jl",
   "mimetype": "application/julia",
   "name": "julia",
   "version": "1.2.0"
  }
 },
 "nbformat": 4,
 "nbformat_minor": 2
}
