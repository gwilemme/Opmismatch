{
 "cells": [
  {
   "cell_type": "markdown",
   "metadata": {},
   "source": [
    "# Calibrate: step 2"
   ]
  },
  {
   "cell_type": "code",
   "execution_count": 1,
   "metadata": {},
   "outputs": [
    {
     "name": "stdout",
     "output_type": "stream",
     "text": [
      "-----***** IVER not specified => Default version 3 *****-----\n",
      "-----*****  eta=0.25 and beta=0.75 *****-----\n"
     ]
    },
    {
     "data": {
      "text/plain": [
       "0.016666666666666666"
      ]
     },
     "execution_count": 1,
     "metadata": {},
     "output_type": "execute_result"
    }
   ],
   "source": [
    "using NBInclude\n",
    "## IVER = 5\n",
    "@nbinclude(\"startup.ipynb\") ## choose IVER before, or IVER = 3 by default\n",
    "\n",
    "if \"COMP\" in keys(ENV)\n",
    "    COMP = parse(Int,ENV[\"COMP\"])\n",
    "else\n",
    "    COMP = 1/60 \n",
    "end"
   ]
  },
  {
   "cell_type": "markdown",
   "metadata": {},
   "source": [
    "We minimise distance to find $\\alpha_j$ and $\\xi$ everything else fixed (1h)."
   ]
  },
  {
   "cell_type": "code",
   "execution_count": 2,
   "metadata": {},
   "outputs": [
    {
     "name": "stdout",
     "output_type": "stream",
     "text": [
      "---*** Begin STEP2 on version 3, for maxtime=0.016666666666666666h***---\n",
      "Distance before: 61.579946833775395\n",
      "The minimum is reached at 55.33324244810706 with MAXTIME_REACHED\n",
      " 79.562802 seconds (8.00 M allocations: 515.303 MiB, 0.59% gc time)\n",
      "Distance after: 55.33324244810706\n",
      "---*** End STEP2 on version 3 with mean(alph)=0.71, XI=1.1***---\n"
     ]
    }
   ],
   "source": [
    "println(\"---*** Begin STEP2 on version $IVER, for maxtime=$(COMP)h***---\")\n",
    "\n",
    "A0, M0 = open_struc(joinpath(dir_calib,\"step1_v$IVER.csv\"),N)\n",
    "\n",
    "println(\"Distance before: \",distance_mom(PAR, A0,RTax,M0,N))\n",
    "\n",
    "@time (A1, M1) = calibrate_equilibrium(PAR,RTax,M0,N, \n",
    "        toestim=[false,true,false,false,true,false],\n",
    "        A0=A0,verbose = false,  Xtol=1e-2, maxti= 60*60*COMP, algo=:LN_SBPLX)       \n",
    "        \n",
    "M1.k[:] = compute_k(A1,RTax,M1,N)\n",
    "\n",
    "println(\"Distance after: \",distance_mom(PAR, A1,RTax,M1,N))\n",
    "\n",
    "## save\n",
    "save_struc(A1, M1, joinpath(dir_calib,\"step2_v$IVER.csv\"), \"v$IVER\", N)\n",
    "\n",
    "alphar = mean(vcat( (M1.y[1,1]-M1.y[2,1])/(M1.y[1,1]-M1.h), \n",
    "        [(M1.y[i,i]-M1.y[1,i])/(M1.y[i,i]-M1.h) for i in 2:N.J]  ))\n",
    "alphar = round(alphar, digits=2)\n",
    "xir = round(M1.xi,digits=2)\n",
    "println(\"---*** End STEP2 on version $IVER with mean(alph)=$alphar, XI=$xir***---\")"
   ]
  },
  {
   "cell_type": "code",
   "execution_count": null,
   "metadata": {},
   "outputs": [],
   "source": []
  }
 ],
 "metadata": {
  "@webio": {
   "lastCommId": null,
   "lastKernelId": null
  },
  "kernelspec": {
   "display_name": "Julia 1.2.0",
   "language": "julia",
   "name": "julia-1.2"
  },
  "language_info": {
   "file_extension": ".jl",
   "mimetype": "application/julia",
   "name": "julia",
   "version": "1.2.0"
  }
 },
 "nbformat": 4,
 "nbformat_minor": 2
}
