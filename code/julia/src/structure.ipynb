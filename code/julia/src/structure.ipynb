{
 "cells": [
  {
   "cell_type": "code",
   "execution_count": 1,
   "metadata": {
    "collapsed": true
   },
   "outputs": [],
   "source": [
    "## hyperparameters\n",
    "struct Hyper\n",
    "    I::Int # nb of worker types\n",
    "    J::Int # nb of firm types\n",
    "end\n",
    "\n",
    "## structural parameters\n",
    "Base.@kwdef struct Para\n",
    "    nu::Vector{Float64} ## distribution of workers per type\n",
    "    r::Float64\n",
    "    delta::Vector{Float64}\n",
    "    eta::Float64\n",
    "    beta::Float64\n",
    "    y::Array{Float64,2}\n",
    "    h::Float64 #h::Vector{Float64}\n",
    "    k::Vector{Float64}\n",
    "    #m1::Vector{Float64}\n",
    "    #s1::Float64\n",
    "    es::Float64\n",
    "    xi::Float64\n",
    "    #rra::Float64\n",
    "end\n",
    "\n",
    "Para_etabeta(eta,beta, M::Para) = \n",
    "Para(nu=M.nu,r=M.r,delta=M.delta,eta=eta,beta=beta,y=M.y,h=M.h, k=M.k, es=M.es, xi=M.xi)\n",
    "\n",
    "Para_es(es, M::Para) = \n",
    "Para(nu=M.nu,r=M.r,delta=M.delta,eta=M.eta,beta=M.beta,y=M.y,h=M.h, k=M.k, es=es, xi=M.xi)\n",
    "\n",
    "## define nuc from nu to minimise the number of parameters\n",
    "nu2nuc(nu) = nu[2:end]./nu[1]\n",
    "function nuc2nu(nuc)\n",
    "    den = 1+sum(nuc)\n",
    "    return(vcat(1,nuc)./den)\n",
    "end\n",
    "\n",
    "\n",
    "vectorise(M::Para) = vcat(M.nu,M.r,M.delta,M.eta,M.beta,\n",
    "                reshape(M.y,length(M.y)), M.h, M.k, M.es, M.xi) \n",
    "\n",
    "function Para(vec,N::Hyper)\n",
    "    nu = vec[1:N.I]\n",
    "    r = vec[N.I+1]\n",
    "    index = N.I+1\n",
    "    \n",
    "    delta = vec[index .+ (1:N.J)]\n",
    "    index += N.J\n",
    "    \n",
    "    eta = vec[index+1]\n",
    "    beta = vec[index+2]\n",
    "    index += 2\n",
    "    \n",
    "    y = reshape(vec[index .+ (1:(N.I*N.J))],N.I,N.J)\n",
    "    index += N.I*N.J\n",
    "    \n",
    "    h = vec[index .+ 1]\n",
    "    index += 1\n",
    "    \n",
    "    k = vec[index .+ (1:N.J)]\n",
    "    index += N.J  \n",
    "    \n",
    "    es = vec[index+1]\n",
    "    xi = vec[index+2]\n",
    "    \n",
    "    return(Para(nu,r,delta,eta,beta,y,h, k, es, xi))\n",
    "end"
   ]
  },
  {
   "cell_type": "markdown",
   "metadata": {},
   "source": [
    "The search and matching functions. Consider the maximisation $$\\max_e s(e)m\\Omega-e.$$\n",
    "I use the closed-form solution when $s(e)=e^{\\epsilon}$:\n",
    "\\begin{align}\n",
    "    & e = (\\epsilon m\\Omega)^{1/(1-\\epsilon)}\\\\\n",
    "    & s(e)m\\Omega-e = \\frac{1-\\epsilon}{\\epsilon}(\\epsilon m\\Omega)^{1/(1-\\epsilon)}\n",
    "\\end{align}"
   ]
  },
  {
   "cell_type": "code",
   "execution_count": 2,
   "metadata": {},
   "outputs": [
    {
     "data": {
      "text/plain": [
       "sp1 (generic function with 1 method)"
      ]
     },
     "execution_count": 2,
     "metadata": {},
     "output_type": "execute_result"
    }
   ],
   "source": [
    "m(theta,M::Para) = theta^M.eta # M.m1[j] * theta^M.eta\n",
    "q(theta,M::Para) = theta^(M.eta-1)\n",
    "#mp(theta,M::Para) =  M.eta *theta^(M.eta-1)) #m(j,theta,M) * M.eta / theta\n",
    "#qr(theta,M::Para) = theta^(1-M.eta)  #1/M.m1[j] * theta^(1-M.eta) # 1/q\n",
    "#qrp(theta,M::Para) = #1/M.m1[j] * (1-M.eta) * theta^(-M.eta) # qp/q^2\n",
    "#qp(j,theta,M::Para) = M.m1[j] * (M.eta-1) * theta^(M.eta-2)\n",
    "\n",
    "\n",
    "## possible parametrisation s(e) = e^es / (es^es*(1-es)^(1-es))\n",
    "s(effort,M::Para) = effort^M.es #M.s1 * effort^M.es\n",
    "#sp(effort,M::Para) = M.s1 * M.es * effort^(M.es-1)\n",
    "#sp1(z,M::Para)  = (z/(M.s1*M.es))^(1/(M.es-1))\n",
    "\n",
    "e2s(mX,M::Para) = mX>0 ? (M.es*mX)^(1/(1-M.es)) : 0.\n",
    "r2s(mX,M::Para) = mX>0 ? (1-M.es)/M.es * (M.es*mX)^(1/(1-M.es)) : 0.\n",
    "function search(mX,M::Para)\n",
    "    if mX>0\n",
    "        e2s = (M.es*mX)^(1/(1-M.es))\n",
    "        r2s = (1-M.es)/M.es * e2s\n",
    "        return(e2s,r2s) \n",
    "    else\n",
    "        return(0.,0.)\n",
    "    end\n",
    "end"
   ]
  },
  {
   "cell_type": "markdown",
   "metadata": {},
   "source": [
    "# 1) Define allocations\n",
    "An Allocation object contains the main endogenous variables:\n",
    "1. the matrix of match surplus of a worker coming from unemployment,  $\\Omega_{ij}^0$,\n",
    "2. the matrix of unemployed workers' search efforts $e^0_{ij}$\n",
    "3. the matrix of employed workers' search efforts $e^1_{ij}$\n",
    "4. the vector of market tightnesses $\\theta_j$,\n",
    "5. the vector for the distribution of unemployed worker $u_i$,\n",
    "6. the matrix for the distribution of employed workers $n_{ij}$."
   ]
  },
  {
   "cell_type": "code",
   "execution_count": 3,
   "metadata": {},
   "outputs": [
    {
     "data": {
      "text/plain": [
       "allocize (generic function with 1 method)"
      ]
     },
     "execution_count": 3,
     "metadata": {},
     "output_type": "execute_result"
    }
   ],
   "source": [
    "struct Alloc{T}\n",
    "    X::Array{T,2} ##X[i,j] is the surplus W+J+T-U = V-U\n",
    "    e0::Array{T,2} ## e0[i,j]\n",
    "    e1::Array{T,3} ## e1[i,j0,j1] is effort from j0 to j1\n",
    "    theta::Vector{T} ## theta[j]\n",
    "    u::Vector{T} ## u[i]\n",
    "    n::Array{T,2} ## n[i,j]\n",
    "end\n",
    "\n",
    "function Alloc(x::Float64,N::Hyper)\n",
    "    X = fill(x,N.I,N.J) \n",
    "    e0 = fill(x,N.I,N.J)\n",
    "    e1 = fill(x,N.I,N.J,N.J)\n",
    "    theta = fill(x,N.J)\n",
    "    n = fill(x, N.I, N.J)\n",
    "    u = fill(x, N.I)\n",
    "    Alloc(X,e0,e1,theta,u,n)\n",
    "end\n",
    "\n",
    "vectorise(A::Alloc)= vcat(reshape(A.X,length(A.X)),reshape(A.e0,length(A.e0)),\n",
    "    reshape(A.e1,length(A.e1)),reshape(A.theta,length(A.theta)),\n",
    "    reshape(A.u,length(A.u)),reshape(A.n,length(A.n)))\n",
    "\n",
    "function Alloc(vec::Array{Float64},N::Hyper)\n",
    "    A = Alloc(0.,N)\n",
    "    Xvec = vec[1:(N.I*N.J)]\n",
    "    index = length(Xvec)\n",
    "    e0vec= vec[index .+ (1:(N.I*N.J))]\n",
    "    index += length(e0vec)\n",
    "    e1vec= vec[index .+ (1:(N.I*N.J*N.J))]\n",
    "    index += length(e1vec)\n",
    "    thetavec= vec[index .+ (1:N.J)]\n",
    "    index += length(thetavec)\n",
    "    uvec= vec[index .+ (1:N.I)]\n",
    "    index += length(uvec)    \n",
    "    nvec= vec[index .+ (1:(N.I*N.J))]\n",
    "    \n",
    "    A.X[:] = reshape(Xvec, size(A.X))\n",
    "    A.e0[:] = reshape(e0vec, size(A.e0))\n",
    "    A.e1[:] = reshape(e1vec, size(A.e1))\n",
    "    A.theta[:] = reshape(thetavec, size(A.theta))\n",
    "    A.u[:] = reshape(uvec, size(A.u))\n",
    "    A.n[:] = reshape(nvec, size(A.n))\n",
    "    \n",
    "    return(A)\n",
    "end"
   ]
  },
  {
   "cell_type": "markdown",
   "metadata": {},
   "source": [
    "Before writing the objective function to compute the decentralized equilibrium, I define the Taxes object.\n",
    "Each job is taxed $T_{ij}=\\frac{t_{ij}}{r+\\delta_j}$. \n",
    "\\begin{align}\n",
    "    &T_{ij}=t^w \\frac{w_{ij}}{r+\\delta_j}+T^{w,spe}_{ij}+t^y \\frac{y_{ij}}{r+\\delta_j} + T^X X_{ij}+T^{f0}_j\\\\\n",
    "\\end{align}\n",
    "The wage tax is either compensated, $T^{w,spe}_{ij}=-t^w \\frac{w_{ij}}{r+\\delta_j}$ or uncompensated, $T^{w,spe}_{ij}=0$. \n",
    "\n",
    "In the compensated case, $T^{comp}_{ij}=t^y \\frac{y_{ij}}{r+\\delta_j} + T^X X_{ij}+T^{f0}_j$.\n",
    "\n",
    "An uncompensated wage tax is equivalent to a combination of a tax on $y$ and on $X$ (plus the effect on $\\tilde{\\beta}$). We use the wage equation in structure.ipynb to obtain a compensated equivalent:\n",
    "\\begin{align}\n",
    "    &T^{uncomp}_{ij}=\\left(t^y+\\frac{t^w}{1+\\tilde{\\beta}t^w} (1-\\tilde{\\beta}t^y)\\right) \\frac{y_{ij}}{r+\\delta_j} + \\left(T^X-\\frac{t^w}{1+\\tilde{\\beta}t^w}(1-\\tilde{\\beta}+\\tilde{\\beta} T^X)\\right) X_{ij}+\\left(1-\\frac{t^w}{1+\\tilde{\\beta}t^w}\\tilde{\\beta}\\right)T^{f0}_j\\\\\n",
    "\\end{align}\n",
    "\n",
    "For each job transition, there is a tax $\\Theta^{j_0}_{ij_1}$.\n",
    "\\begin{align}\n",
    "    & \\Theta^{j_0}_{ij_1}=t^w B^{j_0}_{ij_1}+\\Theta^{spe,j_0}_{ij_1}+\\Theta^{f1}_{j_0}=\\Theta^{f1}_{j_0}\n",
    "\\end{align}\n",
    "I assume that this tax is always compensated here, $\\Theta^{spe,j_0}_{ij_1}=-t^w B^{j_0}_{ij_1}$. This critically simplifies the algorithm to compute the decentralised allocation.\n",
    "We define $$TT^{j_0}_{ij_1}=\\Theta^{j_0}_{ij_1}+T_{ij_1}-T_{ij_0}.$$\n",
    "\n",
    "The Taxes object contains information on $(t^w,t^y,T^X,T^{f0}_{j},\\Theta^{f1}_{j})$, assuming that it corresponds to a compensated tax system.\n",
    "\n",
    "\n",
    "With these notations, the optimal tax scheme is always compensated with \n",
    "\\begin{align}\n",
    "    & T_{ij}^{0}=\\frac{t_{ij}^0}{r+\\delta_j}=T^{f0}_j+T^{w,spe}_{ij},\\\\\n",
    "    & \\mathcal{T}_{ij_1}^{j_0} = \\Theta^{f1}_{j_0}+\\Theta^{spe,j_0}_{ij_1}.\n",
    "\\end{align}\n",
    "\n"
   ]
  },
  {
   "cell_type": "code",
   "execution_count": 4,
   "metadata": {},
   "outputs": [
    {
     "data": {
      "text/plain": [
       "TT_tax (generic function with 1 method)"
      ]
     },
     "execution_count": 4,
     "metadata": {},
     "output_type": "execute_result"
    }
   ],
   "source": [
    "struct Taxes{T <: Real}\n",
    "    w::T ## tauw compensated by default\n",
    "    y::T ## tauy\n",
    "    X::T ## T^X\n",
    "    f0::Vector{T}\n",
    "    f1::Vector{T}\n",
    "end\n",
    "\n",
    "## function to obtain a compensated equivalent\n",
    "function comp_Taxes(T::Taxes,M::Para)\n",
    "    betatilde = M.beta / (M.beta + (1-M.beta)*(1+T.w))\n",
    "    fw = T.w/(1+betatilde*T.w) \n",
    "    NTy = T.y + fw * (1-betatilde*T.y)\n",
    "    NTX = T.X - fw * (1- betatilde + betatilde*T.X)\n",
    "    NTf0 = T.f0 .* (1-fw*betatilde)\n",
    "    Taxes(T.w,NTy,NTX,NTf0,T.f1) \n",
    "end\n",
    "    \n",
    "\n",
    "## taxes raised from a match (i,j) and from a match(i,j0,j1)\n",
    "## /!\\ compensated\n",
    "function T_tax(i,j, X::Array{Float64}, T::Taxes, M::Para) \n",
    "    T.y * (M.y[i,j] / (M.r+M.delta[j])) + T.X * X[i,j] + T.f0[j]\n",
    "end\n",
    "function T_tax_vec(j, yi::Vector{Float64},Xi::Vector{Float64}, T::Taxes, M::Para )\n",
    "    T.y * (yi[j]/ (M.r+M.delta[j])) + T.X * Xi[j] + T.f0[j]\n",
    "end\n",
    "function T_tax_sca(j, yij::Float64, Xij::Float64, T::Taxes, M::Para )\n",
    "    T.y * (yij/ (M.r+M.delta[j])) + T.X * Xij + T.f0[j]\n",
    "end\n",
    "\n",
    "\n",
    "TT_tax(i,j0,j1, X::Array{Float64},T::Taxes, M::Para) =  \n",
    "        T_tax(i,j1,X,T,M) - T_tax(i,j0,X,T,M) + T.f1[j0]\n",
    "TT_tax_vec(j0,j1,yi::Vector{Float64}, Xi::Vector{Float64},T::Taxes, M::Para) =  \n",
    "        T_tax_vec(j1,yi,Xi,T,M) - T_tax_vec(j0,yi,Xi,T,M) + T.f1[j0] "
   ]
  },
  {
   "cell_type": "markdown",
   "metadata": {},
   "source": [
    "Define a Bound object for the calibration."
   ]
  },
  {
   "cell_type": "code",
   "execution_count": null,
   "metadata": {},
   "outputs": [],
   "source": [
    "Base.@kwdef struct Bounds\n",
    "    nuc::Float64\n",
    "    y::Float64\n",
    "    alpha::Float64\n",
    "    theta::Float64\n",
    "    es::Float64\n",
    "    xi::Float64\n",
    "end\n",
    "\n",
    "struct Moments\n",
    "    mom1::Vector{Float64}\n",
    "    mom2::Array{Float64,2}\n",
    "    mom3::Array{Float64,2}\n",
    "    mom4::Vector{Float64}\n",
    "end\n",
    "\n",
    "struct ParCalib\n",
    "    emp::Moments\n",
    "    wgt::Vector{Float64}\n",
    "    lbd::Bounds\n",
    "    ubd::Bounds\n",
    "end"
   ]
  },
  {
   "cell_type": "markdown",
   "metadata": {},
   "source": [
    "## 2) Save and open"
   ]
  },
  {
   "cell_type": "code",
   "execution_count": null,
   "metadata": {},
   "outputs": [],
   "source": [
    "function save_struc(A::Alloc, M::Para, file, VER, N::Hyper)  \n",
    "    col = DataFrame(x = vcat(vectorise(M),vectorise(A)) ) \n",
    "    rename!(col,[Symbol(VER)])\n",
    "    CSV.write(file, col)\n",
    "    return()\n",
    "end\n",
    "\n",
    "function open_struc(file, N::Hyper)  \n",
    "    vec = Vector(CSV.read(file)[:,1])\n",
    "    \n",
    "    lvec = length(vec)\n",
    "    lengthA = N.I*N.J + N.I*N.J + N.I*N.J*N.J + N.J + N.I + N.I*N.J\n",
    "    Mvec = vec[1:(lvec-lengthA)]\n",
    "    Avec = vec[(lvec-lengthA+1):lvec]\n",
    "    \n",
    "    A = Alloc(Avec,N)\n",
    "    M = Para(Mvec,N)\n",
    "    return(A,M)\n",
    "end"
   ]
  }
 ],
 "metadata": {
  "kernelspec": {
   "display_name": "Julia 1.0.5",
   "language": "julia",
   "name": "julia-1.0"
  },
  "language_info": {
   "file_extension": ".jl",
   "mimetype": "application/julia",
   "name": "julia",
   "version": "1.0.5"
  }
 },
 "nbformat": 4,
 "nbformat_minor": 2
}
