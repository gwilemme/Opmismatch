{
 "cells": [
  {
   "cell_type": "code",
   "execution_count": 1,
   "metadata": {},
   "outputs": [
    {
     "data": {
      "text/plain": [
       "compute_k (generic function with 1 method)"
      ]
     },
     "execution_count": 1,
     "metadata": {},
     "output_type": "execute_result"
    }
   ],
   "source": [
    "module Opmismatch\n",
    "\n",
    "using NBInclude:@nbinclude\n",
    "using Roots:fzero\n",
    "using DataFrames:DataFrame, rename!\n",
    "using Distributions:mean, cov\n",
    "using LinearAlgebra:diag, Diagonal\n",
    "using NLopt\n",
    "using CSV\n",
    "\n",
    "@nbinclude(\"structure.ipynb\")\n",
    "export Hyper, Para, Alloc, Taxes, Bounds, Moments, ParCalib\n",
    "export nu2nuc, nuc2nu, Para_etabeta, Para_es, comp_Taxes, save_struc, open_struc\n",
    "\n",
    "@nbinclude(\"data.ipynb\")\n",
    "export weightedmean, share_transit, n_transit, def_mom14, def_mom23\n",
    "\n",
    "@nbinclude(\"equilibrium.ipynb\")\n",
    "export compute_segm_equilibrium, compute_equilibrium, compute_equilibrium_theta, compute_k\n",
    "export welfare_dec, welfare_opt, welfare2, compute_optimum, optax\n",
    "\n",
    "@nbinclude(\"calibration.ipynb\")\n",
    "export build_weights, distance_mom, calibrate_segm_equilibrium, calibrate_equilibrium, calibrate_equilibrium_step1\n",
    "export theo_moments\n",
    "\n",
    "@nbinclude(\"desc.ipynb\")\n",
    "export meanmin, ty_stat, ty_stat2, vacancies\n",
    "\n",
    "end"
   ]
  }
 ],
 "metadata": {
  "kernelspec": {
   "display_name": "Julia 1.0.5",
   "language": "julia",
   "name": "julia-1.0"
  },
  "language_info": {
   "file_extension": ".jl",
   "mimetype": "application/julia",
   "name": "julia",
   "version": "1.0.5"
  }
 },
 "nbformat": 4,
 "nbformat_minor": 2
}
