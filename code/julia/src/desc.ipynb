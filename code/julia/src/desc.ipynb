{
 "cells": [
  {
   "cell_type": "markdown",
   "metadata": {},
   "source": [
    "# Functions to create the table"
   ]
  },
  {
   "cell_type": "code",
   "execution_count": null,
   "metadata": {},
   "outputs": [],
   "source": [
    "function meanmin(A::Alloc,T::Taxes,M::Para,N::Hyper)\n",
    "    wages = [wage(i,j,A,T,M,N) for i in 1:N.I, j in 1:N.J]\n",
    "    \n",
    "    MmJ = zeros(N.J)\n",
    "    for j in 1:N.J \n",
    "        mini = 100. # minimum(wages[:,j]), better to find mini among n>0\n",
    "        num = 0.\n",
    "        den = 0.\n",
    "        for i in 1:N.I\n",
    "            if A.n[i,j]>0\n",
    "                num += A.n[i,j] * wages[i,j]\n",
    "                den += A.n[i,j]\n",
    "                mini =  min(mini , wages[i,j] )\n",
    "            end\n",
    "        end\n",
    "        MmJ[j] = num/den / mini\n",
    "    end\n",
    "    \n",
    "    MmI = zeros(N.I)\n",
    "    for i in 1:N.I \n",
    "        mini = 100. #minimum(wages[i,:])\n",
    "        num = 0.\n",
    "        den = 0.\n",
    "        for j in 1:N.J\n",
    "            if A.n[i,j]>0\n",
    "                num += A.n[i,j] * wages[i,j]\n",
    "                den += A.n[i,j]\n",
    "                mini =  min(mini , wages[i,j] )\n",
    "            end\n",
    "        end\n",
    "        MmI[i] = num/den / mini\n",
    "    end\n",
    "    \n",
    "    return(MmJ,MmI)\n",
    "end\n",
    "    \n"
   ]
  },
  {
   "cell_type": "code",
   "execution_count": null,
   "metadata": {},
   "outputs": [],
   "source": [
    "function ty_stat(oA::Alloc,oT::Taxes,M::Para,N::Hyper)\n",
    "    ## define the three vectors\n",
    "    nn = oA.n\n",
    "    yy = M.y\n",
    "    tt = [T_tax(i,j, oA.X, oT,M) * (M.r+M.delta[j]) for i in 1:N.I, j in 1:N.J]\n",
    "\n",
    "    return( cov(reshape(tt,N.J^2),reshape(yy,N.J^2))/cov(reshape(yy,N.J^2),reshape(yy,N.J^2)) )\n",
    "    \n",
    "    #=## compute means\n",
    "    my = sum(nn .* yy) / sum(nn)\n",
    "    mt = sum(nn .* tt) / sum(nn)\n",
    "    \n",
    "    ## correlation\n",
    "    num = sum(   nn .* (M.y .- my) .* (tt .- mt)    )\n",
    "    den1 = sqrt(sum(  nn .* (M.y .- my).^2  ))   \n",
    "    den2 = sqrt(sum(  nn .* (tt .- mt).^2  ))\n",
    "    \n",
    "    return(num/(den1*den2))=#\n",
    "end\n",
    "\n",
    "function ty_stat2(oA::Alloc,oT::Taxes,M::Para,N::Hyper)\n",
    "    ## define the three vectors\n",
    "    nn = oA.n\n",
    "    yy = M.y\n",
    "    tt = [T_tax(i,j, oA.X, oT,M) * (M.r+M.delta[j]) for i in 1:N.I, j in 1:N.J]\n",
    "    wages = [wage(i,j,oA,oT,M,N) for i in 1:N.I, j in 1:N.J]\n",
    "    tt .-= 3/7 * wages\n",
    "    \n",
    "    \n",
    "    return( cov(reshape(tt,N.J^2),reshape(yy,N.J^2))/cov(reshape(yy,N.J^2),reshape(yy,N.J^2)) )\n",
    "    \n",
    "    #=## compute means\n",
    "    my = sum(nn .* yy) / sum(nn)\n",
    "    mt = sum(nn .* tt) / sum(nn)\n",
    "    \n",
    "    ## correlation\n",
    "    num = sum(   nn .* (M.y .- my) .* (tt .- mt)    )\n",
    "    den1 = sqrt(sum(  nn .* (M.y .- my).^2  ))   \n",
    "    den2 = sqrt(sum(  nn .* (tt .- mt).^2  ))\n",
    "    \n",
    "    return(num/(den1*den2))=#\n",
    "end"
   ]
  },
  {
   "cell_type": "markdown",
   "metadata": {},
   "source": [
    "We find the measures of vacancies with\n",
    "\\begin{align}\n",
    "\t\\theta_{j}=\\frac{v_{j}}{\\int_{\\mathcal{I}}s(e_{ij}^0)u_idi+\\int_{\\mathcal I\\times\\mathcal J}\\xi s(e_{ij}^{j_0})n_{ij_0}di dj_0}.\\label{eq:thetaj_ext}\n",
    "\\end{align}"
   ]
  },
  {
   "cell_type": "code",
   "execution_count": null,
   "metadata": {},
   "outputs": [],
   "source": [
    "function vacancies(A::Alloc,M::Para,N::Hyper)\n",
    "    v = zeros(N.J)\n",
    "\n",
    "    for j in 1:N.J\n",
    "        denj = 0\n",
    "        for i in 1:N.I\n",
    "            denj += s(A.e0[i,j],M) * A.u[i]\n",
    "        end\n",
    "        for i in 1:N.I, j0 in 1:N.J\n",
    "            denj += M.xi * s(A.e1[i,j0,j],M) * A.n[i,j0]\n",
    "        end\n",
    "        v[j] = A.theta[j] * denj \n",
    "    end\n",
    "    \n",
    "    return(v)\n",
    "end"
   ]
  }
 ],
 "metadata": {
  "@webio": {
   "lastCommId": null,
   "lastKernelId": null
  },
  "kernelspec": {
   "display_name": "Julia 1.0.5",
   "language": "julia",
   "name": "julia-1.0"
  },
  "language_info": {
   "file_extension": ".jl",
   "mimetype": "application/julia",
   "name": "julia",
   "version": "1.0.5"
  }
 },
 "nbformat": 4,
 "nbformat_minor": 2
}
