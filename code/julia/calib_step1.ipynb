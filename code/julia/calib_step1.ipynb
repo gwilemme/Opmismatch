{
 "cells": [
  {
   "cell_type": "markdown",
   "metadata": {},
   "source": [
    "# Calibrate: step 1"
   ]
  },
  {
   "cell_type": "code",
   "execution_count": null,
   "metadata": {},
   "outputs": [],
   "source": [
    "using NBInclude\n",
    "## IVER = 5\n",
    "@nbinclude(\"startup.ipynb\") ## choose IVER before, or IVER = 3 by default"
   ]
  },
  {
   "cell_type": "markdown",
   "metadata": {},
   "source": [
    "$\\eta$ and $\\beta$ are given.\n",
    "For different initial values of the elasticity $\\epsilon$, we find $y_{jj}$, $k_j$ and $\\nu_i$ with the segmented model, then we find $\\xi$ and the constant vector for $\\alpha_j$ (3min). \n",
    "We then fix the initial value of $\\epsilon$ that gives the lowest distance."
   ]
  },
  {
   "cell_type": "code",
   "execution_count": null,
   "metadata": {},
   "outputs": [],
   "source": [
    "println(\"---*** Begin STEP1 on version $IVER ***---\")\n",
    "let \n",
    "    dist = sum(abs2,(PAR.emp.mom2-Diagonal(PAR.emp.mom2)) .* PAR.wgt[2])  /(22*22) + \n",
    "        sum(abs2,PAR.emp.mom3 .*PAR.wgt[3])/(22*21)\n",
    "    println(\"The distance cannot go below $dist with segmented equilibrium.\")\n",
    "end\n",
    "\n",
    "function compute_step1(ES)\n",
    "    \n",
    "    comp1 = 60*30 #60*30 30min\n",
    "    comp2 = 60*3 #60*3 3min\n",
    "    \n",
    "    ## calibrate a segmented equilibrium\n",
    "    (Asegm, Msegm) = calibrate_segm_equilibrium(PAR, RTax, Para_es(ES,M_init), N,\n",
    "                    toestim=[true,true,true],verbose=false, maxti=comp1 )\n",
    "\n",
    "    ## fix a benchmark equilibrium with arbitrary alpha and xi\n",
    "    (A0,M0) = let\n",
    "            alpha_cons = 0.9\n",
    "            xi = 1.1\n",
    "            vec= vcat(diag(Msegm.y),fill(alpha_cons,N.J),Msegm.es, xi, Asegm.theta, nu2nuc(Msegm.nu))\n",
    "            compute_equilibrium_theta(vec,RTax,Msegm,N,Xtol=1e-2)\n",
    "    end\n",
    "    M0.k[:] = compute_k(A0,RTax,M0,N)            \n",
    "    println(\"Distance benchmark alpha=0.95 and xi=1: \", distance_mom(PAR, A0,RTax,M0,N))\n",
    "\n",
    "    \n",
    "    ## find good priors for alpha and xi\n",
    "    (A1, M1) = calibrate_equilibrium_step1(PAR,RTax,M0,N, \n",
    "            A0=A0,verbose = false,  Xtol=1e-2, maxti= comp2, algo=:LN_SBPLX) \n",
    "    M1.k[:] = compute_k(A1,RTax,M1,N)   \n",
    "    \n",
    "    dist = distance_mom(PAR, A1,RTax,M1,N)\n",
    "    return( dist, A1, M1 )\n",
    "end"
   ]
  },
  {
   "cell_type": "code",
   "execution_count": null,
   "metadata": {},
   "outputs": [],
   "source": [
    "rangeES = range(0.4,0.6,length=10)\n",
    "distvec = fill(1000.,length(rangeES))\n",
    "index = 0\n",
    "for ES in rangeES\n",
    "    global index += 1\n",
    "    \n",
    "    esr = round(ES,digits=2)\n",
    "    println(\"- Loop $index, for ES=$esr\")\n",
    "    dist = compute_step1(ES)[1]\n",
    "    \n",
    "    distvec[index] = dist\n",
    "end    \n",
    ";"
   ]
  },
  {
   "cell_type": "markdown",
   "metadata": {},
   "source": [
    "Now, we find the version with $\\epsilon$ that gives the lowest distance ($\\epsilon$ is still calibrated in a subsequent step)."
   ]
  },
  {
   "cell_type": "code",
   "execution_count": null,
   "metadata": {},
   "outputs": [],
   "source": [
    "ES = let \n",
    "    dist_noNaN = distvec[.!isnan.(distvec)] ## exclude NaN\n",
    "    rangeES_noNaN = rangeES[.!isnan.(distvec)]\n",
    "    rangeES_noNaN[findmin(dist_noNaN)[2]]\n",
    "end\n",
    "\n",
    "dist, A1, M1 = compute_step1(ES)\n",
    "\n",
    "## save\n",
    "save_struc(A1, M1, joinpath(dir_calib,\"step1_v$IVER.csv\"), \"v$IVER\", N) \n",
    "\n",
    "esr = round(M1.es,digits = 2)\n",
    "xir = round(M1.xi, digits=2)\n",
    "alphar = round((M1.y[1,1]-M1.y[2,1])/(M1.y[1,1]-M1.h),digits=2)\n",
    "println(\"---*** End STEP1 on version $IVER with ES=$esr, XI=$xir, alph=$alphar ***---\")"
   ]
  }
 ],
 "metadata": {
  "@webio": {
   "lastCommId": null,
   "lastKernelId": null
  },
  "kernelspec": {
   "display_name": "Julia 1.0.5",
   "language": "julia",
   "name": "julia-1.0"
  },
  "language_info": {
   "file_extension": ".jl",
   "mimetype": "application/julia",
   "name": "julia",
   "version": "1.0.5"
  }
 },
 "nbformat": 4,
 "nbformat_minor": 2
}
