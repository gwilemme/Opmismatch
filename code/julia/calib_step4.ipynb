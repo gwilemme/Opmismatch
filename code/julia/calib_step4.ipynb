{
 "cells": [
  {
   "cell_type": "markdown",
   "metadata": {},
   "source": [
    "# Calibrate: step 4"
   ]
  },
  {
   "cell_type": "code",
   "execution_count": 1,
   "metadata": {},
   "outputs": [
    {
     "name": "stdout",
     "output_type": "stream",
     "text": [
      "-----***** IVER not specified => Default version 3 *****-----\n",
      "-----*****  eta=0.25 and beta=0.75 *****-----\n"
     ]
    },
    {
     "data": {
      "text/plain": [
       "0.016666666666666666"
      ]
     },
     "execution_count": 1,
     "metadata": {},
     "output_type": "execute_result"
    }
   ],
   "source": [
    "using NBInclude\n",
    "## IVER = 5\n",
    "@nbinclude(\"startup.ipynb\") ## choose IVER before, or IVER = 3 by default\n",
    "\n",
    "if \"COMP\" in keys(ENV)\n",
    "    COMP = parse(Int,ENV[\"COMP\"])\n",
    "else\n",
    "    COMP = 1/60\n",
    "end"
   ]
  },
  {
   "cell_type": "markdown",
   "metadata": {},
   "source": [
    "We minimise distance to find $y_{jj}$, $\\alpha_j$, $\\xi$, $\\epsilon$, $k_j$ and $\\nu_i$ (24h)."
   ]
  },
  {
   "cell_type": "code",
   "execution_count": 2,
   "metadata": {},
   "outputs": [
    {
     "name": "stdout",
     "output_type": "stream",
     "text": [
      "---*** Begin STEP4 on version 3, for maxtime=0.016666666666666666h***---\n",
      "Distance before: 3.0290227447278735\n",
      "The minimum is reached at 2.7308741851641134 with MAXTIME_REACHED\n",
      " 71.277387 seconds (8.01 M allocations: 533.966 MiB, 0.76% gc time)\n",
      "Distance after: 2.7308741851641134\n",
      "---*** End STEP4 on version 3 with ES=0.44, XI=1.1, alph=0.88 ***---\n"
     ]
    }
   ],
   "source": [
    "println(\"---*** Begin STEP4 on version $IVER, for maxtime=$(COMP)h***---\")\n",
    "\n",
    "A0, M0 = open_struc(joinpath(dir_calib,\"step3_v$IVER.csv\"),N)\n",
    "\n",
    "println(\"Distance before: \",distance_mom(PAR, A0,RTax,M0,N))\n",
    "\n",
    "@time (A1, M1) = calibrate_equilibrium(PAR,RTax,M0,N, \n",
    "        toestim=[true,true,true,true,true,true],\n",
    "        A0=A0,verbose = false,  Xtol=1e-2, maxti= 60*60*COMP, algo=:LN_SBPLX)       \n",
    "        \n",
    "M1.k[:] = compute_k(A1,RTax,M1,N)\n",
    "\n",
    "println(\"Distance after: \",distance_mom(PAR, A1,RTax,M1,N))\n",
    "\n",
    "## save\n",
    "save_struc(A1, M1, joinpath(dir_calib,\"step4_v$IVER.csv\"), \"v$IVER\", N)\n",
    "\n",
    "alphar = mean(vcat( (M1.y[1,1]-M1.y[2,1])/(M1.y[1,1]-M1.h), \n",
    "        [(M1.y[i,i]-M1.y[1,i])/(M1.y[i,i]-M1.h) for i in 2:N.J]  ))\n",
    "alphar = round(alphar, digits=2)\n",
    "esr = round(M1.es, digits = 2)\n",
    "xir = round(M1.xi,digits=2)\n",
    "println(\"---*** End STEP4 on version $IVER with ES=$esr, XI=$xir, alph=$alphar ***---\")"
   ]
  }
 ],
 "metadata": {
  "@webio": {
   "lastCommId": null,
   "lastKernelId": null
  },
  "kernelspec": {
   "display_name": "Julia 1.2.0",
   "language": "julia",
   "name": "julia-1.2"
  },
  "language_info": {
   "file_extension": ".jl",
   "mimetype": "application/julia",
   "name": "julia",
   "version": "1.2.0"
  }
 },
 "nbformat": 4,
 "nbformat_minor": 2
}
