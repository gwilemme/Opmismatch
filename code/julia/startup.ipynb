{
 "cells": [
  {
   "cell_type": "markdown",
   "metadata": {},
   "source": [
    "# Startup \n",
    "Code to be include at the beginning of each Julia script.\n",
    "IVER is the version defined in the batch file."
   ]
  },
  {
   "cell_type": "code",
   "execution_count": 1,
   "metadata": {},
   "outputs": [
    {
     "name": "stdout",
     "output_type": "stream",
     "text": [
      "-----***** IVER not specified => Default version 3 *****-----\n"
     ]
    }
   ],
   "source": [
    "if !isdefined(Main,:IVER) \n",
    "    if \"IVER\" in keys(ENV)\n",
    "        IVER = parse(Int,ENV[\"IVER\"])\n",
    "        println(\"-----***** Version $IVER *****-----\")\n",
    "    else\n",
    "        IVER = 3\n",
    "        println(\"-----***** IVER not specified => Default version $IVER *****-----\")\n",
    "    end\n",
    "end"
   ]
  },
  {
   "cell_type": "markdown",
   "metadata": {},
   "source": [
    "Define directories and call packages."
   ]
  },
  {
   "cell_type": "code",
   "execution_count": 2,
   "metadata": {},
   "outputs": [],
   "source": [
    "dir_module = joinpath(pwd(),\"src\")\n",
    "dir_mom = joinpath(pwd(),\"../../data/moments\")\n",
    "dir_calib = joinpath(pwd(),\"calibrated\")\n",
    "\n",
    "########### main module\n",
    "using NBInclude\n",
    "@nbinclude(joinpath(dir_module,\"Opmismatch.ipynb\"))\n",
    "using Main.Opmismatch\n",
    "\n",
    "########### other packages\n",
    "using DataFrames:DataFrame\n",
    "using Distributions:mean, std\n",
    "using LinearAlgebra:diag, Diagonal\n",
    "using Roots:fzero\n",
    "using CSV"
   ]
  },
  {
   "cell_type": "markdown",
   "metadata": {},
   "source": [
    "## Empirical moments"
   ]
  },
  {
   "cell_type": "code",
   "execution_count": 3,
   "metadata": {},
   "outputs": [],
   "source": [
    "N = Hyper(22,22)\n",
    "emp, jdr = let\n",
    "    \n",
    "    df_stats = DataFrame(CSV.read(joinpath(dir_mom,\"stats.csv\")))\n",
    "    df_rates = DataFrame(CSV.read(joinpath(dir_mom,\"rates.csv\")))\n",
    "    (shUU,shUE,shEU,shEEnew,shEEsame) = share_transit(df_rates,N)\n",
    "\n",
    "    mom1, mom4 = def_mom14(df_stats,N)\n",
    "    (mom2,mom3,jdr) = def_mom23(shUE, shEEnew+shEEsame, N)\n",
    "    (Moments(mom1,mom2,mom3,mom4), jdr )\n",
    "end\n",
    ";"
   ]
  },
  {
   "cell_type": "markdown",
   "metadata": {},
   "source": [
    "## Initial values"
   ]
  },
  {
   "cell_type": "code",
   "execution_count": 4,
   "metadata": {},
   "outputs": [
    {
     "name": "stdout",
     "output_type": "stream",
     "text": [
      "-----*****  eta=0.25 and beta=0.75 *****-----\n"
     ]
    }
   ],
   "source": [
    "eta_vec = [0.25,0.25,0.25,0.5,0.5,0.5,0.75,0.75,0.75]\n",
    "beta_vec = [0.25,0.5,0.75,0.25,0.5,0.75,0.25,0.5,0.75]\n",
    "\n",
    "M_init = let\n",
    "    nu = fill(NaN,N.I) #emp.mom4 ./ sum(emp.mom4)\n",
    "    \n",
    "    h = 0.4 * weightedmean(emp.mom1,emp.mom4)\n",
    "    y = zeros(N.I,N.J)  \n",
    "    #fill(1.1 * h,N.I,N.J) \n",
    "    #for j0 in 1:N.J\n",
    "    #    y[j0,j0] = emp.mom1[j0]*3\n",
    "    #end\n",
    "    k = fill(NaN,N.J) # fill(5.,N.J)\n",
    "    r = fzero(x->exp.(-12*x)-1/(1+0.05), 0, 1) # 5% annual interest rate\n",
    "    delta = jdr \n",
    "    eta = eta_vec[IVER]\n",
    "    beta = beta_vec[IVER]\n",
    "    es = NaN  # 0.5\n",
    "    xi = 0. # 1.\n",
    "    Para(nu=nu,r=r,delta=delta,eta=eta,beta=beta,y=y,h=h,k=k,es=es,xi=xi)\n",
    "end\n",
    "\n",
    "\n",
    "println(\"-----*****  eta=$(M_init.eta) and beta=$(M_init.beta) *****-----\")"
   ]
  },
  {
   "cell_type": "markdown",
   "metadata": {},
   "source": [
    "The current tax system is modeled with a fix wage tax of 30\\%, wich means $\\tau^w=3/7$."
   ]
  },
  {
   "cell_type": "code",
   "execution_count": 5,
   "metadata": {},
   "outputs": [
    {
     "data": {
      "text/plain": [
       "Taxes{Float64}(0.42857142857142855, 0.33214285714285713, -0.10714285714285715, [0.0, 0.0, 0.0, 0.0, 0.0, 0.0, 0.0, 0.0, 0.0, 0.0  …  0.0, 0.0, 0.0, 0.0, 0.0, 0.0, 0.0, 0.0, 0.0, 0.0], [0.0, 0.0, 0.0, 0.0, 0.0, 0.0, 0.0, 0.0, 0.0, 0.0  …  0.0, 0.0, 0.0, 0.0, 0.0, 0.0, 0.0, 0.0, 0.0, 0.0])"
      ]
     },
     "execution_count": 5,
     "metadata": {},
     "output_type": "execute_result"
    }
   ],
   "source": [
    "## define taxes at 0\n",
    "Notax = Taxes(0.,0.,0.,zeros(N.J),zeros(N.J))\n",
    "\n",
    "RTax = let\n",
    "    T0 = Taxes(3/7 ,0.,0., zeros(N.J), zeros(N.J)) ## to be compensated\n",
    "    comp_Taxes(T0,M_init)\n",
    "end"
   ]
  },
  {
   "cell_type": "markdown",
   "metadata": {},
   "source": [
    "We define the bounds for the calibration."
   ]
  },
  {
   "cell_type": "code",
   "execution_count": 6,
   "metadata": {},
   "outputs": [],
   "source": [
    "## parameters for the calibration\n",
    "PAR = let\n",
    "    wgt = build_weights(emp) \n",
    "    lbd = Bounds(nuc=0., y=M_init.h, alpha=0., theta=1e-25, es=0.01, xi=0.01 )\n",
    "    ubd = Bounds(nuc=1000., y=100., alpha=1-1e-10, theta=1e10, es=0.99, xi=10.)\n",
    "    ParCalib(emp,wgt,lbd,ubd)\n",
    "end\n",
    ";"
   ]
  }
 ],
 "metadata": {
  "@webio": {
   "lastCommId": null,
   "lastKernelId": null
  },
  "kernelspec": {
   "display_name": "Julia 1.0.5",
   "language": "julia",
   "name": "julia-1.0"
  },
  "language_info": {
   "file_extension": ".jl",
   "mimetype": "application/julia",
   "name": "julia",
   "version": "1.0.5"
  }
 },
 "nbformat": 4,
 "nbformat_minor": 2
}
